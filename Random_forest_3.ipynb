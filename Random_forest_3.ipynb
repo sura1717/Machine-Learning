{
  "nbformat": 4,
  "nbformat_minor": 0,
  "metadata": {
    "colab": {
      "provenance": []
    },
    "kernelspec": {
      "name": "python3",
      "display_name": "Python 3"
    },
    "language_info": {
      "name": "python"
    }
  },
  "cells": [
    {
      "cell_type": "code",
      "execution_count": 2,
      "metadata": {
        "id": "BOwsKOvFRLIA"
      },
      "outputs": [],
      "source": [
        "import numpy as np\n",
        "import pandas as pd"
      ]
    },
    {
      "cell_type": "code",
      "source": [
        "df = pd.DataFrame(pd.Series([12,14,1,8,4,33,0,24,17,10]), columns=['sample'])"
      ],
      "metadata": {
        "id": "67BMPzv9RLyf"
      },
      "execution_count": 3,
      "outputs": []
    },
    {
      "cell_type": "code",
      "source": [
        "print(df.sample(10,replace = True))\n",
        "print(df.sample(10,replace = True))"
      ],
      "metadata": {
        "colab": {
          "base_uri": "https://localhost:8080/"
        },
        "id": "WwaT5VQMRL09",
        "outputId": "5d9093bc-30b6-4858-9c61-0330ce9e4a2d"
      },
      "execution_count": 5,
      "outputs": [
        {
          "output_type": "stream",
          "name": "stdout",
          "text": [
            "   sample\n",
            "4       4\n",
            "8      17\n",
            "5      33\n",
            "2       1\n",
            "4       4\n",
            "4       4\n",
            "3       8\n",
            "4       4\n",
            "2       1\n",
            "9      10\n",
            "   sample\n",
            "7      24\n",
            "4       4\n",
            "0      12\n",
            "3       8\n",
            "5      33\n",
            "9      10\n",
            "5      33\n",
            "1      14\n",
            "3       8\n",
            "9      10\n"
          ]
        }
      ]
    },
    {
      "cell_type": "code",
      "source": [
        "from sklearn.datasets import make_classification\n",
        "from sklearn.model_selection import train_test_split\n",
        "from sklearn.ensemble import RandomForestClassifier\n",
        "from sklearn.metrics import accuracy_score\n",
        "\n",
        "# create a synthatic analysis\n",
        "X, y = make_classification(n_samples = 1000,n_informative = 15,n_redundant = 5,n_features = 20,random_state = 42)\n",
        "\n",
        "# splite data into training and testing phase\n",
        "x_train,x_test,y_train,y_test = train_test_split(X,y,test_size = 0.2,random_state = 42)\n",
        "\n",
        "# initilize the classifier to oob score true\n",
        "rf = RandomForestClassifier(oob_score = True,random_state = 42)\n",
        "\n",
        "# fit the data\n",
        "rf.fit(x_train,y_train)\n",
        "\n",
        "# predict the level set the test set\n",
        "y_pred = rf.predict(x_test)\n",
        "\n",
        "# compute the accuracy score of classifier\n",
        "acc_score = accuracy_score(y_test,y_pred)\n",
        "\n",
        "print(\"accuracy_score = \",acc_score)\n",
        "print(\"oob_score = \",rf.oob_score_)\n"
      ],
      "metadata": {
        "colab": {
          "base_uri": "https://localhost:8080/"
        },
        "id": "EvwYM1EeRL3x",
        "outputId": "71b0c56d-fa9e-4c2b-abc6-d41047b359bd"
      },
      "execution_count": 27,
      "outputs": [
        {
          "output_type": "stream",
          "name": "stdout",
          "text": [
            "accuracy_score =  0.9\n",
            "oob_score =  0.9075\n"
          ]
        }
      ]
    },
    {
      "cell_type": "code",
      "source": [
        "from sklearn.datasets import make_classification\n",
        "from sklearn.model_selection import train_test_split\n",
        "from sklearn.ensemble import RandomForestClassifier,ExtraTreesClassifier\n",
        "from sklearn.metrics import top_k_accuracy_score\n",
        "\n",
        "# same code on extra treee classifire compare\n",
        "\n",
        "X, y = make_classification(n_samples = 1000,n_features = 20,n_informative=15,random_state = 42)\n",
        "\n",
        "x_train,x_test,y_train,y_test = train_test_split(X,y,test_size = 0.2,random_state = 42)\n",
        "\n",
        "rf = RandomForestClassifier(random_state = 42)\n",
        "et = ExtraTreesClassifier(random_state = 42)\n",
        "\n",
        "rf.fit(x_train,y_train)\n",
        "et.fit(x_train,y_train)\n",
        "\n",
        "rf_pred = rf.predict(x_test)\n",
        "et_pred = et.predict(x_test)\n",
        "\n",
        "print(\"RF accuracy_score = \",accuracy_score(rf_pred,y_test))\n",
        "print(\"ET accuracy_score = \",accuracy_score(et_pred,y_test))\n",
        "\n",
        "# print(\"rf oob_score = \",rf.oob_score_)\n",
        "# print(\"ET oob_score = \",et.oob_score_)"
      ],
      "metadata": {
        "colab": {
          "base_uri": "https://localhost:8080/"
        },
        "id": "MrpuGR1GRMZK",
        "outputId": "97037fbe-4644-4ade-e2e1-a8ba9f2233b3"
      },
      "execution_count": 28,
      "outputs": [
        {
          "output_type": "stream",
          "name": "stdout",
          "text": [
            "RF accuracy_score =  0.87\n",
            "ET accuracy_score =  0.925\n"
          ]
        }
      ]
    }
  ]
}